{
 "cells": [
  {
   "metadata": {
    "ExecuteTime": {
     "end_time": "2024-07-26T08:33:06.543449Z",
     "start_time": "2024-07-26T08:33:04.233613Z"
    }
   },
   "cell_type": "code",
   "source": [
    "import time\n",
    "import pickle\n",
    "import numpy as np\n",
    "import pandas as pd"
   ],
   "id": "c957fc858ffc289b",
   "outputs": [],
   "execution_count": 1
  },
  {
   "metadata": {
    "ExecuteTime": {
     "end_time": "2024-07-21T09:49:55.544454Z",
     "start_time": "2024-07-21T09:49:55.029697Z"
    }
   },
   "cell_type": "code",
   "source": [
    "text_file = r\"Detail_99_CleanData_0625.csv\"\n",
    "df = pd.read_csv(text_file)\n",
    "df.columns"
   ],
   "id": "13836b785ce8b653",
   "outputs": [
    {
     "data": {
      "text/plain": [
       "Index(['GPTs_ID', 'GPTs_Name', 'Logo_URL', 'Description', 'Rating',\n",
       "       'Number of Ratings', 'Conversions', 'Author URL', 'Author',\n",
       "       'Links_texts', 'Features', 'Conversion Start', 'URL', 'Error',\n",
       "       'num_rate', 'Website', 'Linkedin', 'Github', 'Twitter', 'num_of_links'],\n",
       "      dtype='object')"
      ]
     },
     "execution_count": 5,
     "metadata": {},
     "output_type": "execute_result"
    }
   ],
   "execution_count": 5
  },
  {
   "metadata": {
    "ExecuteTime": {
     "end_time": "2024-07-17T12:16:29.206086Z",
     "start_time": "2024-07-17T12:16:29.189088Z"
    }
   },
   "cell_type": "code",
   "source": [
    "df = df[[\"GPTs_ID\", \"GPTs_Name\", \"Description\"]]\n",
    "df"
   ],
   "id": "2d2eb30c8e046a76",
   "outputs": [
    {
     "data": {
      "text/plain": [
       "          GPTs_ID                                        GPTs_Name  \\\n",
       "0      ScxItyf8pT                                  image generator   \n",
       "1      6Y2JaRhv45                                        Consensus   \n",
       "2       4nBAUVbWT                                            Canva   \n",
       "3      LJybdvxEb4                                     Write For Me   \n",
       "4      2pZpEYisJw                                     AI Humanizer   \n",
       "...           ...                                              ...   \n",
       "12497  WhEBav_bYr                                  Global Explorer   \n",
       "12498  dW2NpFhEAR                                         Exam GPT   \n",
       "12499  aeeGtQhv6d                                    レシートデータコンバーター   \n",
       "12500  5m7qiAFz8l  Illuminous-💡 Data Exploration and Prediction AI   \n",
       "12501  50gH22ovo0                              Riscrivere Il Testo   \n",
       "\n",
       "                                             Description  \n",
       "0      A GPT specialized in generating and refining i...  \n",
       "1      Ask the research, chat directly with the world...  \n",
       "2      Effortlessly design anything: presentations, l...  \n",
       "3      Write tailored, engaging content with a focus ...  \n",
       "4      #1 AI humanizer in the world🏆| Get human-like ...  \n",
       "...                                                  ...  \n",
       "12497  Your expert guide for worldwide travel destina...  \n",
       "12498  I create practice exam questions for high scho...  \n",
       "12499  レシートデータコンバーターはレシート写真をCSVデータに変換できます。（I convert ...  \n",
       "12500  I am Illuminous. 💡I specialize in future predi...  \n",
       "12501  Riscrivere il testo è semplice con il nostro s...  \n",
       "\n",
       "[12502 rows x 3 columns]"
      ],
      "text/html": [
       "<div>\n",
       "<style scoped>\n",
       "    .dataframe tbody tr th:only-of-type {\n",
       "        vertical-align: middle;\n",
       "    }\n",
       "\n",
       "    .dataframe tbody tr th {\n",
       "        vertical-align: top;\n",
       "    }\n",
       "\n",
       "    .dataframe thead th {\n",
       "        text-align: right;\n",
       "    }\n",
       "</style>\n",
       "<table border=\"1\" class=\"dataframe\">\n",
       "  <thead>\n",
       "    <tr style=\"text-align: right;\">\n",
       "      <th></th>\n",
       "      <th>GPTs_ID</th>\n",
       "      <th>GPTs_Name</th>\n",
       "      <th>Description</th>\n",
       "    </tr>\n",
       "  </thead>\n",
       "  <tbody>\n",
       "    <tr>\n",
       "      <th>0</th>\n",
       "      <td>ScxItyf8pT</td>\n",
       "      <td>image generator</td>\n",
       "      <td>A GPT specialized in generating and refining i...</td>\n",
       "    </tr>\n",
       "    <tr>\n",
       "      <th>1</th>\n",
       "      <td>6Y2JaRhv45</td>\n",
       "      <td>Consensus</td>\n",
       "      <td>Ask the research, chat directly with the world...</td>\n",
       "    </tr>\n",
       "    <tr>\n",
       "      <th>2</th>\n",
       "      <td>4nBAUVbWT</td>\n",
       "      <td>Canva</td>\n",
       "      <td>Effortlessly design anything: presentations, l...</td>\n",
       "    </tr>\n",
       "    <tr>\n",
       "      <th>3</th>\n",
       "      <td>LJybdvxEb4</td>\n",
       "      <td>Write For Me</td>\n",
       "      <td>Write tailored, engaging content with a focus ...</td>\n",
       "    </tr>\n",
       "    <tr>\n",
       "      <th>4</th>\n",
       "      <td>2pZpEYisJw</td>\n",
       "      <td>AI Humanizer</td>\n",
       "      <td>#1 AI humanizer in the world🏆| Get human-like ...</td>\n",
       "    </tr>\n",
       "    <tr>\n",
       "      <th>...</th>\n",
       "      <td>...</td>\n",
       "      <td>...</td>\n",
       "      <td>...</td>\n",
       "    </tr>\n",
       "    <tr>\n",
       "      <th>12497</th>\n",
       "      <td>WhEBav_bYr</td>\n",
       "      <td>Global Explorer</td>\n",
       "      <td>Your expert guide for worldwide travel destina...</td>\n",
       "    </tr>\n",
       "    <tr>\n",
       "      <th>12498</th>\n",
       "      <td>dW2NpFhEAR</td>\n",
       "      <td>Exam GPT</td>\n",
       "      <td>I create practice exam questions for high scho...</td>\n",
       "    </tr>\n",
       "    <tr>\n",
       "      <th>12499</th>\n",
       "      <td>aeeGtQhv6d</td>\n",
       "      <td>レシートデータコンバーター</td>\n",
       "      <td>レシートデータコンバーターはレシート写真をCSVデータに変換できます。（I convert ...</td>\n",
       "    </tr>\n",
       "    <tr>\n",
       "      <th>12500</th>\n",
       "      <td>5m7qiAFz8l</td>\n",
       "      <td>Illuminous-💡 Data Exploration and Prediction AI</td>\n",
       "      <td>I am Illuminous. 💡I specialize in future predi...</td>\n",
       "    </tr>\n",
       "    <tr>\n",
       "      <th>12501</th>\n",
       "      <td>50gH22ovo0</td>\n",
       "      <td>Riscrivere Il Testo</td>\n",
       "      <td>Riscrivere il testo è semplice con il nostro s...</td>\n",
       "    </tr>\n",
       "  </tbody>\n",
       "</table>\n",
       "<p>12502 rows × 3 columns</p>\n",
       "</div>"
      ]
     },
     "execution_count": 12,
     "metadata": {},
     "output_type": "execute_result"
    }
   ],
   "execution_count": 12
  },
  {
   "metadata": {
    "ExecuteTime": {
     "end_time": "2024-07-26T08:34:52.252443Z",
     "start_time": "2024-07-26T08:34:52.061465Z"
    }
   },
   "cell_type": "code",
   "source": [
    "text_file = r\".\\data\\Detail_99_CleanData_0507_with_language.csv\"\n",
    "df = pd.read_csv(text_file)\n",
    "# df.columns\n",
    "language_summary = df['Primary_Language'].value_counts()\n",
    "print(language_summary)"
   ],
   "id": "403c9d289069527e",
   "outputs": [
    {
     "name": "stdout",
     "output_type": "stream",
     "text": [
      "en       8261\n",
      "zh-cn     376\n",
      "ja        348\n",
      "ko        226\n",
      "fr        197\n",
      "es        123\n",
      "pt         95\n",
      "de         83\n",
      "it         65\n",
      "ca         61\n",
      "ro         35\n",
      "nl         31\n",
      "no         28\n",
      "da         25\n",
      "vi         21\n",
      "ru         16\n",
      "af         15\n",
      "None       14\n",
      "pl         14\n",
      "cs         11\n",
      "id         10\n",
      "sv         10\n",
      "ar         10\n",
      "tl          8\n",
      "et          6\n",
      "zh-tw       6\n",
      "fi          6\n",
      "sl          3\n",
      "sk          3\n",
      "bg          3\n",
      "tr          3\n",
      "cy          2\n",
      "sw          2\n",
      "el          2\n",
      "lv          1\n",
      "hr          1\n",
      "uk          1\n",
      "th          1\n",
      "so          1\n",
      "hu          1\n",
      "Name: Primary_Language, dtype: int64\n"
     ]
    }
   ],
   "execution_count": 5
  },
  {
   "metadata": {},
   "cell_type": "code",
   "outputs": [],
   "execution_count": null,
   "source": "",
   "id": "83313e73668140e2"
  }
 ],
 "metadata": {
  "kernelspec": {
   "display_name": "Python 3",
   "language": "python",
   "name": "python3"
  },
  "language_info": {
   "codemirror_mode": {
    "name": "ipython",
    "version": 2
   },
   "file_extension": ".py",
   "mimetype": "text/x-python",
   "name": "python",
   "nbconvert_exporter": "python",
   "pygments_lexer": "ipython2",
   "version": "2.7.6"
  }
 },
 "nbformat": 4,
 "nbformat_minor": 5
}
