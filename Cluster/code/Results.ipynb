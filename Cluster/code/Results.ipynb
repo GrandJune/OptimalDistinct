{
 "cells": [
  {
   "metadata": {
    "ExecuteTime": {
     "end_time": "2024-07-28T09:02:53.202001Z",
     "start_time": "2024-07-28T09:02:53.190Z"
    }
   },
   "cell_type": "code",
   "source": [
    "import time\n",
    "import pickle\n",
    "import numpy as np\n",
    "import pandas as pd"
   ],
   "id": "c957fc858ffc289b",
   "outputs": [],
   "execution_count": 77
  },
  {
   "metadata": {
    "ExecuteTime": {
     "end_time": "2024-07-28T09:04:00.025701Z",
     "start_time": "2024-07-28T09:03:59.783668Z"
    }
   },
   "cell_type": "code",
   "source": [
    "text_file = r\"E:\\Python_Workplace\\OptimalDistinct\\Cluster\\code\\sbert_similarity_results_allcat_with_language.csv\"\n",
    "df = pd.read_csv(text_file)\n",
    "print(df.columns)\n",
    "# df_2 = df.iloc[:, :17]\n",
    "# df_2.columns.values[9] = 'Conversion_start'\n",
    "# df_2.to_csv(text_file, index=False)\n",
    "# print(df_2.columns)\n",
    "for each in df[\"Description_cleaned\"]:\n",
    "    if (\"GPT\" in each) or (\"gpt\" in each):\n",
    "        print(each)"
   ],
   "id": "13836b785ce8b653",
   "outputs": [
    {
     "name": "stdout",
     "output_type": "stream",
     "text": [
      "Index(['GPTs_ID', 'GPTs_Name', 'Description', 'Rating', 'Number of Ratings',\n",
      "       'Conversions', 'Author URL', 'Author', 'Features', 'Conversion_start',\n",
      "       'num_rate', 'Website', 'Linkedin', 'Github', 'Twitter', 'num_of_links',\n",
      "       'map_Category', 'Primary_Language', 'Description_cleaned',\n",
      "       'Features_cleaned', 'Conversion_start_cleaned'],\n",
      "      dtype='object')\n"
     ]
    }
   ],
   "execution_count": 80
  },
  {
   "metadata": {
    "ExecuteTime": {
     "end_time": "2024-07-27T13:13:14.467444Z",
     "start_time": "2024-07-27T13:13:14.179294Z"
    }
   },
   "cell_type": "code",
   "source": [
    "category_counts = df[\"Description_Cluster\"].value_counts()\n",
    "import seaborn as sns\n",
    "sns.barplot(x=category_counts.index, y=category_counts.values)"
   ],
   "id": "2d2eb30c8e046a76",
   "outputs": [
    {
     "data": {
      "text/plain": [
       "<Axes: >"
      ]
     },
     "execution_count": 42,
     "metadata": {},
     "output_type": "execute_result"
    },
    {
     "data": {
      "text/plain": [
       "<Figure size 432x288 with 1 Axes>"
      ],
      "image/png": "[encoded data removed]"
     },
     "metadata": {
      "needs_background": "light"
     },
     "output_type": "display_data"
    }
   ],
   "execution_count": 42
  },
  {
   "metadata": {
    "ExecuteTime": {
     "end_time": "2024-07-27T13:13:28.211007Z",
     "start_time": "2024-07-27T13:13:28.205055Z"
    }
   },
   "cell_type": "code",
   "source": [
    "language_summary = df['Primary_Language'].value_counts()\n",
    "print(language_summary)"
   ],
   "id": "403c9d289069527e",
   "outputs": [
    {
     "name": "stdout",
     "output_type": "stream",
     "text": [
      "en    11578\n",
      "Name: Primary_Language, dtype: int64\n"
     ]
    }
   ],
   "execution_count": 43
  },
  {
   "metadata": {
    "ExecuteTime": {
     "end_time": "2024-07-27T13:13:45.971649Z",
     "start_time": "2024-07-27T13:13:45.690658Z"
    }
   },
   "cell_type": "code",
   "source": [
    "category_counts = df[\"Features_Cluster\"].value_counts()\n",
    "import seaborn as sns\n",
    "sns.barplot(x=category_counts.index, y=category_counts.values)"
   ],
   "id": "83313e73668140e2",
   "outputs": [
    {
     "data": {
      "text/plain": [
       "<Axes: >"
      ]
     },
     "execution_count": 44,
     "metadata": {},
     "output_type": "execute_result"
    },
    {
     "data": {
      "text/plain": [
       "<Figure size 432x288 with 1 Axes>"
      ],
      "image/png": "[encoded data removed]"
     },
     "metadata": {
      "needs_background": "light"
     },
     "output_type": "display_data"
    }
   ],
   "execution_count": 44
  },
  {
   "metadata": {
    "ExecuteTime": {
     "end_time": "2024-07-27T13:13:58.047348Z",
     "start_time": "2024-07-27T13:13:57.773338Z"
    }
   },
   "cell_type": "code",
   "source": [
    "category_counts = df[\"Conversion_Cluster\"].value_counts()\n",
    "import seaborn as sns\n",
    "sns.barplot(x=category_counts.index, y=category_counts.values)"
   ],
   "id": "97485b5a42868b51",
   "outputs": [
    {
     "data": {
      "text/plain": [
       "<Axes: >"
      ]
     },
     "execution_count": 45,
     "metadata": {},
     "output_type": "execute_result"
    },
    {
     "data": {
      "text/plain": [
       "<Figure size 432x288 with 1 Axes>"
      ],
      "image/png": "[encoded data removed]"
     },
     "metadata": {
      "needs_background": "light"
     },
     "output_type": "display_data"
    }
   ],
   "execution_count": 45
  },
  {
   "metadata": {},
   "cell_type": "code",
   "source": [
    "import re\n",
    "\n",
    "def remove_words_case_insensitive(text, words_to_remove):\n",
    "    # Convert text to lowercase\n",
    "    text_lower = text.lower()\n",
    "    \n",
    "    # Create a regex pattern to match all words in the list, also convert the list to lowercase\n",
    "    pattern = '|'.join([re.escape(word.lower()) for word in words_to_remove])\n",
    "    \n",
    "    # Use regex sub to replace the words with an empty string\n",
    "    cleaned_text = re.sub(pattern, '', text_lower)\n",
    "    \n",
    "    # Remove extra spaces\n",
    "    cleaned_text = re.sub(r'\\s+', ' ', cleaned_text).strip()\n",
    "    \n",
    "    return cleaned_text\n",
    "\n",
    "# Example usage\n",
    "words_to_remove = [\"Conversion Starters\", \"AI\", \"Python\", \"GPT\", \"Prompt\"]\n",
    "# text = \"Conversion Starters are using AI to create Python scripts for GPT models with specific Prompts. Also, conversion starters are powerful.\"\n",
    "text_list = df[\"Description\"].tolist()\n",
    "cleaned_text = [remove_words_case_insensitive(text, words_to_remove) for text in text_list]\n",
    "\n",
    "print(cleaned_text)\n"
   ],
   "id": "867b14fbfcdf1e5e",
   "outputs": [],
   "execution_count": null
  },
  {
   "metadata": {
    "ExecuteTime": {
     "end_time": "2024-07-28T11:35:54.938038Z",
     "start_time": "2024-07-28T11:35:54.583037Z"
    }
   },
   "cell_type": "code",
   "source": [
    "text_file = r\"E:\\Python_Workplace\\OptimalDistinct\\Cluster\\code\\sbert_similarity_results_allcat_with_cluster.csv\"\n",
    "df = pd.read_csv(text_file)\n",
    "print(df.columns)"
   ],
   "id": "57fda60f20c51305",
   "outputs": [
    {
     "name": "stdout",
     "output_type": "stream",
     "text": [
      "Index(['GPTs_ID', 'GPTs_Name', 'Description', 'Rating', 'Number of Ratings',\n",
      "       'Conversions', 'Author URL', 'Author', 'Features', 'Conversion_start',\n",
      "       'num_rate', 'Website', 'Linkedin', 'Github', 'Twitter', 'num_of_links',\n",
      "       'map_Category', 'Primary_Language', 'Description_cleaned',\n",
      "       'Features_cleaned', 'Conversion_start_cleaned', 'Description_Cluster',\n",
      "       'Features_Cluster', 'Conversion_Cluster'],\n",
      "      dtype='object')\n"
     ]
    }
   ],
   "execution_count": 81
  },
  {
   "metadata": {},
   "cell_type": "code",
   "outputs": [],
   "execution_count": null,
   "source": [
    "import pandas as pd\n",
    "import numpy as np\n",
    "from sklearn.metrics.pairwise import cosine_distances\n",
    "from sentence_transformers import SentenceTransformer\n",
    "\n",
    "# Load the model\n",
    "model = SentenceTransformer('all-MiniLM-L6-v2')\n",
    "\n",
    "# Sample DataFrame\n",
    "# df = pd.DataFrame({'ID': ..., 'text': ..., 'cluster_index': ..., 'performance': ...})\n",
    "\n",
    "# Function to calculate distances and find top 10% performers\n",
    "def analyze_performance(df):\n",
    "    # Store results\n",
    "    results = []\n",
    "\n",
    "    # Iterate over each cluster\n",
    "    for cluster in df['cluster_index'].unique():\n",
    "        cluster_df = df[df['cluster_index'] == cluster]\n",
    "\n",
    "        # Calculate 90th percentile for performance\n",
    "        threshold = np.percentile(cluster_df['performance'], 90)\n",
    "        \n",
    "        # IDs with performance in the top 10%\n",
    "        top_ids = cluster_df[cluster_df['performance'] > threshold]['ID']\n",
    "\n",
    "        # Embed all texts in the cluster\n",
    "        cluster_texts = cluster_df['text'].tolist()\n",
    "        embeddings = model.encode(cluster_texts, convert_to_tensor=True)\n",
    "        \n",
    "        for idx, row in cluster_df.iterrows():\n",
    "            focal_id = row['ID']\n",
    "            focal_text = row['text']\n",
    "            focal_embedding = model.encode([focal_text], convert_to_tensor=True)\n",
    "            \n",
    "            # Calculate distances to top performers\n",
    "            if focal_id in top_ids:\n",
    "                distances = cosine_distances(focal_embedding, embeddings[top_ids.index])\n",
    "                avg_distance = np.mean(distances)\n",
    "            else:\n",
    "                avg_distance = None\n",
    "            \n",
    "            results.append({\n",
    "                'ID': focal_id,\n",
    "                'average_distance_to_top': avg_distance\n",
    "            })\n",
    "    \n",
    "    return pd.DataFrame(results)\n",
    "\n",
    "# Use the function\n",
    "# result_df = analyze_performance(df)\n"
   ],
   "id": "2abc0ef4269c125e"
  }
 ],
 "metadata": {
  "kernelspec": {
   "display_name": "Python 3",
   "language": "python",
   "name": "python3"
  },
  "language_info": {
   "codemirror_mode": {
    "name": "ipython",
    "version": 2
   },
   "file_extension": ".py",
   "mimetype": "text/x-python",
   "name": "python",
   "nbconvert_exporter": "python",
   "pygments_lexer": "ipython2",
   "version": "2.7.6"
  }
 },
 "nbformat": 4,
 "nbformat_minor": 5
}
